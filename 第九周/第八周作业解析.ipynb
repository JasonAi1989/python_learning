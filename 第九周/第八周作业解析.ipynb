{
 "cells": [
  {
   "cell_type": "markdown",
   "metadata": {},
   "source": [
    "### 实现LinkedList"
   ]
  },
  {
   "cell_type": "code",
   "execution_count": 26,
   "metadata": {
    "collapsed": true
   },
   "outputs": [],
   "source": [
    "class Node:\n",
    "    def __init__(self, value):\n",
    "        self.value = value\n",
    "        self.next = None\n",
    "        self.prev = None"
   ]
  },
  {
   "cell_type": "code",
   "execution_count": 27,
   "metadata": {
    "collapsed": false
   },
   "outputs": [],
   "source": [
    "class LinkedList:\n",
    "    def __init__(self):\n",
    "        self.head = None\n",
    "        self.tail = None\n",
    "        \n",
    "#     def __find_tail(self):\n",
    "#         current = self.head\n",
    "#         while current.next is not None:\n",
    "#             current = current.next\n",
    "#         return current\n",
    "    \n",
    "    def append(self, value):\n",
    "        node = Node(value)\n",
    "        if self.head is None:\n",
    "            self.head = node\n",
    "            self.tail = node\n",
    "        else:\n",
    "            self.tail.next = node\n",
    "            node.prev = self.tail\n",
    "            self.tail = node\n",
    "    \n",
    "    def pop(self):\n",
    "        if self.head is None:\n",
    "            return None\n",
    "        node = self.tail\n",
    "        self.tail = node.prev\n",
    "        value = node.value\n",
    "        self.tail.next = None\n",
    "        return value\n",
    "#         current = self.head\n",
    "#         tmp = None\n",
    "#         while current.next is not None:\n",
    "#             tmp = current\n",
    "#             current = current.next\n",
    "#         if tmp is not None:\n",
    "#             tmp.next = None\n",
    "#             self.tail = tmp\n",
    "#             return current.value\n",
    "#         value = current.value\n",
    "#         self.head = None\n",
    "#         self.tail = None\n",
    "#         return value\n",
    "    \n",
    "    def insert(self, index, value):\n",
    "        node = Node(value)\n",
    "        if index == 0:\n",
    "            node.next = self.head\n",
    "            if self.head is not None:\n",
    "                self.head.prev = node\n",
    "            self.head = node\n",
    "            if node.next is None:\n",
    "                self.tail = node\n",
    "            return\n",
    "        # index = 1\n",
    "        ## current = self.head\n",
    "        ## node.next = current.next\n",
    "        ## current.next = node\n",
    "\n",
    "        # index = 2\n",
    "        ## current == self.head.next\n",
    "        ## node.next = current.next\n",
    "        ## current.next = node\n",
    "        \n",
    "        # index = 3\n",
    "        ## current = self.head.next.next\n",
    "        \n",
    "        current = self.head\n",
    "        for _ in range(2, index+1):\n",
    "            if current is None:\n",
    "                raise Exception('')\n",
    "            current = current.next\n",
    "        node.next = current.next\n",
    "        node.prev = current\n",
    "        current.next = node\n",
    "        if node.next is None:\n",
    "            self.tail = node\n",
    "    \n",
    "    def remove(self, index):\n",
    "        if index == 0:\n",
    "            if self.head is None:\n",
    "                raise Exception()\n",
    "            self.head = self.head.next\n",
    "            self.prev = None\n",
    "            return\n",
    "        \n",
    "        # index = 1\n",
    "        ## current = self.head\n",
    "        ## current.next = current.next.next\n",
    "        \n",
    "        # index = 2\n",
    "        ## current = self.head.next\n",
    "        ## current.next = current.next.next\n",
    "        current = self.head\n",
    "        for _ in range(2, index+1):\n",
    "            if current is None:\n",
    "                raise Exception()\n",
    "            current = current.next\n",
    "        if current.next is None:\n",
    "            raise Exception\n",
    "        node = current.next.next\n",
    "        current.next = node\n",
    "        if node is not None:\n",
    "            node.prev = current\n",
    "        if current.next is None:\n",
    "            self.tail = current\n",
    "    "
   ]
  },
  {
   "cell_type": "code",
   "execution_count": 4,
   "metadata": {
    "collapsed": true
   },
   "outputs": [],
   "source": [
    "lst = LinkedList()"
   ]
  },
  {
   "cell_type": "code",
   "execution_count": 5,
   "metadata": {
    "collapsed": true
   },
   "outputs": [],
   "source": [
    "lst.append(1)"
   ]
  },
  {
   "cell_type": "code",
   "execution_count": 6,
   "metadata": {
    "collapsed": true
   },
   "outputs": [],
   "source": [
    "lst.append(2)"
   ]
  },
  {
   "cell_type": "code",
   "execution_count": 7,
   "metadata": {
    "collapsed": false
   },
   "outputs": [
    {
     "data": {
      "text/plain": [
       "2"
      ]
     },
     "execution_count": 7,
     "metadata": {},
     "output_type": "execute_result"
    }
   ],
   "source": [
    "lst.pop()"
   ]
  },
  {
   "cell_type": "code",
   "execution_count": 8,
   "metadata": {
    "collapsed": false
   },
   "outputs": [
    {
     "data": {
      "text/plain": [
       "1"
      ]
     },
     "execution_count": 8,
     "metadata": {},
     "output_type": "execute_result"
    }
   ],
   "source": [
    "lst.pop()"
   ]
  },
  {
   "cell_type": "code",
   "execution_count": 9,
   "metadata": {
    "collapsed": true
   },
   "outputs": [],
   "source": [
    "lst.pop()"
   ]
  },
  {
   "cell_type": "code",
   "execution_count": 10,
   "metadata": {
    "collapsed": true
   },
   "outputs": [],
   "source": [
    "lst.append(1)"
   ]
  },
  {
   "cell_type": "code",
   "execution_count": 11,
   "metadata": {
    "collapsed": true
   },
   "outputs": [],
   "source": [
    "lst.append(2)"
   ]
  },
  {
   "cell_type": "code",
   "execution_count": 12,
   "metadata": {
    "collapsed": true
   },
   "outputs": [],
   "source": [
    "lst.append(3)"
   ]
  },
  {
   "cell_type": "code",
   "execution_count": 13,
   "metadata": {
    "collapsed": true
   },
   "outputs": [],
   "source": [
    "lst.insert(1, 5)"
   ]
  },
  {
   "cell_type": "code",
   "execution_count": 14,
   "metadata": {
    "collapsed": false
   },
   "outputs": [
    {
     "data": {
      "text/plain": [
       "3"
      ]
     },
     "execution_count": 14,
     "metadata": {},
     "output_type": "execute_result"
    }
   ],
   "source": [
    "lst.pop()"
   ]
  },
  {
   "cell_type": "code",
   "execution_count": 15,
   "metadata": {
    "collapsed": false
   },
   "outputs": [
    {
     "data": {
      "text/plain": [
       "2"
      ]
     },
     "execution_count": 15,
     "metadata": {},
     "output_type": "execute_result"
    }
   ],
   "source": [
    "lst.pop()"
   ]
  },
  {
   "cell_type": "code",
   "execution_count": 16,
   "metadata": {
    "collapsed": false
   },
   "outputs": [
    {
     "data": {
      "text/plain": [
       "5"
      ]
     },
     "execution_count": 16,
     "metadata": {},
     "output_type": "execute_result"
    }
   ],
   "source": [
    "lst.pop()"
   ]
  },
  {
   "cell_type": "code",
   "execution_count": 17,
   "metadata": {
    "collapsed": false
   },
   "outputs": [
    {
     "data": {
      "text/plain": [
       "1"
      ]
     },
     "execution_count": 17,
     "metadata": {},
     "output_type": "execute_result"
    }
   ],
   "source": [
    "lst.pop()"
   ]
  },
  {
   "cell_type": "code",
   "execution_count": 18,
   "metadata": {
    "collapsed": true
   },
   "outputs": [],
   "source": [
    "lst.insert(0, 1)"
   ]
  },
  {
   "cell_type": "code",
   "execution_count": 19,
   "metadata": {
    "collapsed": false
   },
   "outputs": [
    {
     "data": {
      "text/plain": [
       "1"
      ]
     },
     "execution_count": 19,
     "metadata": {},
     "output_type": "execute_result"
    }
   ],
   "source": [
    "lst.pop()"
   ]
  },
  {
   "cell_type": "code",
   "execution_count": 20,
   "metadata": {
    "collapsed": false
   },
   "outputs": [
    {
     "ename": "Exception",
     "evalue": "",
     "output_type": "error",
     "traceback": [
      "\u001b[0;31m---------------------------------------------------------------------------\u001b[0m",
      "\u001b[0;31mException\u001b[0m                                 Traceback (most recent call last)",
      "\u001b[0;32m<ipython-input-20-a94d1d4b8460>\u001b[0m in \u001b[0;36m<module>\u001b[0;34m()\u001b[0m\n\u001b[0;32m----> 1\u001b[0;31m \u001b[0mlst\u001b[0m\u001b[0;34m.\u001b[0m\u001b[0minsert\u001b[0m\u001b[0;34m(\u001b[0m\u001b[0;36m5\u001b[0m\u001b[0;34m,\u001b[0m \u001b[0;36m5\u001b[0m\u001b[0;34m)\u001b[0m\u001b[0;34m\u001b[0m\u001b[0m\n\u001b[0m",
      "\u001b[0;32m<ipython-input-3-e0b3fde15fda>\u001b[0m in \u001b[0;36minsert\u001b[0;34m(self, index, value)\u001b[0m\n\u001b[1;32m     54\u001b[0m         \u001b[0;32mfor\u001b[0m \u001b[0m_\u001b[0m \u001b[0;32min\u001b[0m \u001b[0mrange\u001b[0m\u001b[0;34m(\u001b[0m\u001b[0;36m2\u001b[0m\u001b[0;34m,\u001b[0m \u001b[0mindex\u001b[0m\u001b[0;34m+\u001b[0m\u001b[0;36m1\u001b[0m\u001b[0;34m)\u001b[0m\u001b[0;34m:\u001b[0m\u001b[0;34m\u001b[0m\u001b[0m\n\u001b[1;32m     55\u001b[0m             \u001b[0;32mif\u001b[0m \u001b[0mcurrent\u001b[0m \u001b[0;32mis\u001b[0m \u001b[0;32mNone\u001b[0m\u001b[0;34m:\u001b[0m\u001b[0;34m\u001b[0m\u001b[0m\n\u001b[0;32m---> 56\u001b[0;31m                 \u001b[0;32mraise\u001b[0m \u001b[0mException\u001b[0m\u001b[0;34m(\u001b[0m\u001b[0;34m''\u001b[0m\u001b[0;34m)\u001b[0m\u001b[0;34m\u001b[0m\u001b[0m\n\u001b[0m\u001b[1;32m     57\u001b[0m             \u001b[0mcurrent\u001b[0m \u001b[0;34m=\u001b[0m \u001b[0mcurrent\u001b[0m\u001b[0;34m.\u001b[0m\u001b[0mnext\u001b[0m\u001b[0;34m\u001b[0m\u001b[0m\n\u001b[1;32m     58\u001b[0m         \u001b[0mnode\u001b[0m\u001b[0;34m.\u001b[0m\u001b[0mnext\u001b[0m \u001b[0;34m=\u001b[0m \u001b[0mcurrent\u001b[0m\u001b[0;34m.\u001b[0m\u001b[0mnext\u001b[0m\u001b[0;34m\u001b[0m\u001b[0m\n",
      "\u001b[0;31mException\u001b[0m: "
     ]
    }
   ],
   "source": [
    "lst.insert(5, 5)"
   ]
  },
  {
   "cell_type": "code",
   "execution_count": 21,
   "metadata": {
    "collapsed": true
   },
   "outputs": [],
   "source": [
    "lst.append(1)"
   ]
  },
  {
   "cell_type": "code",
   "execution_count": 22,
   "metadata": {
    "collapsed": true
   },
   "outputs": [],
   "source": [
    "lst.append(2)"
   ]
  },
  {
   "cell_type": "code",
   "execution_count": 23,
   "metadata": {
    "collapsed": true
   },
   "outputs": [],
   "source": [
    "lst.remove(1)"
   ]
  },
  {
   "cell_type": "code",
   "execution_count": 24,
   "metadata": {
    "collapsed": false
   },
   "outputs": [
    {
     "data": {
      "text/plain": [
       "1"
      ]
     },
     "execution_count": 24,
     "metadata": {},
     "output_type": "execute_result"
    }
   ],
   "source": [
    "lst.pop()"
   ]
  },
  {
   "cell_type": "markdown",
   "metadata": {},
   "source": [
    "### 实现优先队列"
   ]
  },
  {
   "cell_type": "code",
   "execution_count": 46,
   "metadata": {
    "collapsed": true
   },
   "outputs": [],
   "source": [
    "class Heap:\n",
    "    @staticmethod\n",
    "    def cmp(x, y):\n",
    "        if x > y:\n",
    "            return 1\n",
    "        if x < y:\n",
    "            return -1\n",
    "        return 0\n",
    "    \n",
    "    def __init__(self, cmp=None):\n",
    "        if cmp is None:\n",
    "            self.cmp = Heap.cmp\n",
    "        else:\n",
    "            self.cmp = cmp\n",
    "        self.data = []\n",
    "    \n",
    "    def put(self, value):\n",
    "        i = len(self.data)\n",
    "        self.data.append(value)\n",
    "        pi = (i-1) // 2\n",
    "        while pi >= 0 and self.cmp(value, self.data[pi]) > 0:\n",
    "            self.data[pi], self.data[i] = self.data[i], self.data[pi]\n",
    "            i = pi\n",
    "            pi = (i-1) // 2\n",
    "    \n",
    "    def pop(self):\n",
    "        if not self.data:\n",
    "            return None\n",
    "        if len(self.data) == 1:\n",
    "            return self.data.pop()\n",
    "        i = 0\n",
    "        value = self.data[i]\n",
    "        self.data[i] = self.data.pop()\n",
    "        li = 2 * i + 1\n",
    "        ri = 2 * i + 2\n",
    "        while self.data and li < len(self.data):\n",
    "            ci = li\n",
    "            if ri < len(self.data) and self.cmp(self.data[ri], self.data[li]) > 0:\n",
    "                ci = ri\n",
    "            if self.cmp(self.data[ci], self.data[i]) > 0:\n",
    "                self.data[ci], self.data[i] = self.data[i], self.data[ci]\n",
    "                i = ci\n",
    "                li = 2 * i + 1\n",
    "                ri = 2 * i + 2\n",
    "            else:\n",
    "                break\n",
    "        return value\n",
    "        "
   ]
  },
  {
   "cell_type": "code",
   "execution_count": 57,
   "metadata": {
    "collapsed": true
   },
   "outputs": [],
   "source": [
    "class Node:\n",
    "    def __init__(self, value, pri):\n",
    "        self.value = value\n",
    "        self.pri = pri\n",
    "\n",
    "\n",
    "class PriorityQueue(Heap):\n",
    "    @classmethod\n",
    "    def cmp(x, y):\n",
    "        return Heap.cmp(x.pri, y.pri)\n",
    "    \n",
    "    def __init__(self):\n",
    "        super().__init__(cmp=PriorityQueue.cmp)\n",
    "    \n",
    "    def put(self, value, pri=0):\n",
    "        super().put(Node(value, pri))\n",
    "    \n",
    "    def pop(self):\n",
    "        node = super().pop()\n",
    "        if node is None:\n",
    "            return None\n",
    "        return node.value"
   ]
  },
  {
   "cell_type": "markdown",
   "metadata": {},
   "source": [
    "### 实现字典"
   ]
  },
  {
   "cell_type": "code",
   "execution_count": 62,
   "metadata": {
    "collapsed": true
   },
   "outputs": [],
   "source": [
    "class Node:\n",
    "    def __init__(self, key, value):\n",
    "        self.key = key\n",
    "        self.value = value\n",
    "\n",
    "class Dict:\n",
    "    def __init__(self, cap=128):\n",
    "        self.cap = cap\n",
    "        self.slots = []\n",
    "        for x in range(cap):\n",
    "            self.slots.append([])\n",
    "    \n",
    "    def __get_slot(self, key):\n",
    "        return self.slots[hash(key) % self.cap]\n",
    "    \n",
    "    def put(self, key, value):\n",
    "        node = Node(key, value)\n",
    "        slot = self.__get_slot(key)\n",
    "        slot.append(node)\n",
    "    \n",
    "    def get(self, key, default=None):\n",
    "        slot = self.__get_slot(key)\n",
    "        for node in slot:\n",
    "            if node.key == key:\n",
    "                return node.value\n",
    "        return default\n",
    "    \n",
    "    def remove(self, key):\n",
    "        slot = self.__get_slot(key)\n",
    "        idx = -1\n",
    "        for i, node in enumerate(slot):\n",
    "            if node.key == key:\n",
    "                idx = i\n",
    "        if idx >= 0:\n",
    "            slot.pop(idx)\n",
    "        "
   ]
  },
  {
   "cell_type": "code",
   "execution_count": 63,
   "metadata": {
    "collapsed": true
   },
   "outputs": [],
   "source": [
    "d = Dict()"
   ]
  },
  {
   "cell_type": "code",
   "execution_count": 64,
   "metadata": {
    "collapsed": false
   },
   "outputs": [],
   "source": [
    "d.put('a', 1)"
   ]
  },
  {
   "cell_type": "code",
   "execution_count": 65,
   "metadata": {
    "collapsed": false
   },
   "outputs": [
    {
     "data": {
      "text/plain": [
       "1"
      ]
     },
     "execution_count": 65,
     "metadata": {},
     "output_type": "execute_result"
    }
   ],
   "source": [
    "d.get('a')"
   ]
  },
  {
   "cell_type": "code",
   "execution_count": 66,
   "metadata": {
    "collapsed": true
   },
   "outputs": [],
   "source": [
    "d.remove('a')"
   ]
  },
  {
   "cell_type": "code",
   "execution_count": 67,
   "metadata": {
    "collapsed": true
   },
   "outputs": [],
   "source": [
    "d.get('a')"
   ]
  },
  {
   "cell_type": "code",
   "execution_count": null,
   "metadata": {
    "collapsed": true
   },
   "outputs": [],
   "source": []
  }
 ],
 "metadata": {
  "kernelspec": {
   "display_name": "Python 3",
   "language": "python",
   "name": "python3"
  },
  "language_info": {
   "codemirror_mode": {
    "name": "ipython",
    "version": 3
   },
   "file_extension": ".py",
   "mimetype": "text/x-python",
   "name": "python",
   "nbconvert_exporter": "python",
   "pygments_lexer": "ipython3",
   "version": "3.5.2"
  }
 },
 "nbformat": 4,
 "nbformat_minor": 2
}
